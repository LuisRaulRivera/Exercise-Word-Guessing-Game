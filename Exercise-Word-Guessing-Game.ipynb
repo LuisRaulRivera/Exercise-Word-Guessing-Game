{
 "cells": [
  {
   "cell_type": "code",
   "execution_count": null,
   "id": "9db818a1",
   "metadata": {},
   "outputs": [],
   "source": [
    "with open('file1.txt','r') as f:\n",
    "\tlistl=[]\n",
    "\tfor line in f:\n",
    "\t\tstrip_lines=line.strip()\n",
    "\t\tlistli=strip_lines.split()\n",
    "\t\tprint(listli)\n",
    "\t\tm=listl.append(listli)\n",
    "\tprint(listl)"
   ]
  }
 ],
 "metadata": {
  "kernelspec": {
   "display_name": "Python 3 (ipykernel)",
   "language": "python",
   "name": "python3"
  },
  "language_info": {
   "codemirror_mode": {
    "name": "ipython",
    "version": 3
   },
   "file_extension": ".py",
   "mimetype": "text/x-python",
   "name": "python",
   "nbconvert_exporter": "python",
   "pygments_lexer": "ipython3",
   "version": "3.9.7"
  }
 },
 "nbformat": 4,
 "nbformat_minor": 5
}
