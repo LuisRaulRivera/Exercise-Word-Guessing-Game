{
 "cells": [
  {
   "cell_type": "code",
   "execution_count": 1,
   "id": "9db818a1",
   "metadata": {},
   "outputs": [
    {
     "name": "stdout",
     "output_type": "stream",
     "text": [
      "_\n",
      "_\n",
      "_\n",
      "_\n",
      "_\n",
      "\n",
      "guess a character:happy\n",
      "h\n",
      "a\n",
      "p\n",
      "p\n",
      "y\n",
      "You won the game!\n",
      "The word is: happy\n"
     ]
    }
   ],
   "source": [
    "import random\n",
    "words = ['happy']\n",
    "guesses = ''\n",
    "turns = 7\n",
    "word = random.choice(words)\n",
    "while turns > 0:\n",
    "    failed = 0\n",
    "    for char in word:\n",
    "        if char in guesses:\n",
    "            print(char, end='\\n')\n",
    "        else:\n",
    "            print('_')\n",
    "            print(end='')\n",
    "            failed += 1\n",
    "            \n",
    "    if failed == 0:\n",
    "        print('You won the game!')\n",
    "        print('The word is:', word)\n",
    "        break\n",
    "    print()\n",
    "    not_int = False\n",
    "    \n",
    "    while not_int is False:\n",
    "        guess = input('guess a character:')\n",
    "        if guess in guesses:\n",
    "            print('You already guessed that number!')\n",
    "            continue\n",
    "        if not guess.isalpha():\n",
    "            turns -= 1\n",
    "            print('That is wrong, it is not a string')\n",
    "            print('You no have a total of' , + turns, 'guesses left')\n",
    "        else:\n",
    "            not_int = True\n",
    "            \n",
    "    guesses += guess\n",
    "    if guess not in word:\n",
    "        turns -= 1\n",
    "        print('That is wrong')\n",
    "        print('You now have a total of', + turns, 'guesses left')\n",
    "        if turns == 0:\n",
    "            print('Sorry, you have now lost the game')"
   ]
  }
 ],
 "metadata": {
  "kernelspec": {
   "display_name": "Python 3 (ipykernel)",
   "language": "python",
   "name": "python3"
  },
  "language_info": {
   "codemirror_mode": {
    "name": "ipython",
    "version": 3
   },
   "file_extension": ".py",
   "mimetype": "text/x-python",
   "name": "python",
   "nbconvert_exporter": "python",
   "pygments_lexer": "ipython3",
   "version": "3.9.7"
  }
 },
 "nbformat": 4,
 "nbformat_minor": 5
}
